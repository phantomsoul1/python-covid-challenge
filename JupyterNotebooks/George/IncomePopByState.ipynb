{
 "cells": [
  {
   "cell_type": "code",
   "execution_count": 1,
   "metadata": {},
   "outputs": [],
   "source": [
    "# Dependencies and Setup\n",
    "import pandas as pd\n",
    "import us\n",
    "\n",
    "resource_path = \"../../Resources/\"\n",
    "age_bins_path = f\"{resource_path}Age Bins.csv\"\n",
    "census_path = f\"{resource_path}census_data_output.csv\"\n",
    "land_area_path = f\"{resource_path}State_County_MHI_Landarea.csv\""
   ]
  },
  {
   "cell_type": "code",
   "execution_count": 2,
   "metadata": {},
   "outputs": [
    {
     "data": {
      "text/html": [
       "<div>\n",
       "<style scoped>\n",
       "    .dataframe tbody tr th:only-of-type {\n",
       "        vertical-align: middle;\n",
       "    }\n",
       "\n",
       "    .dataframe tbody tr th {\n",
       "        vertical-align: top;\n",
       "    }\n",
       "\n",
       "    .dataframe thead th {\n",
       "        text-align: right;\n",
       "    }\n",
       "</style>\n",
       "<table border=\"1\" class=\"dataframe\">\n",
       "  <thead>\n",
       "    <tr style=\"text-align: right;\">\n",
       "      <th></th>\n",
       "      <th>Zip Code</th>\n",
       "      <th>State</th>\n",
       "      <th>County</th>\n",
       "      <th>Median Household Income</th>\n",
       "      <th>Land Area in Square Miles</th>\n",
       "    </tr>\n",
       "  </thead>\n",
       "  <tbody>\n",
       "    <tr>\n",
       "      <th>0</th>\n",
       "      <td>601</td>\n",
       "      <td>PR</td>\n",
       "      <td>Adjuntas Municipio</td>\n",
       "      <td>NaN</td>\n",
       "      <td>NaN</td>\n",
       "    </tr>\n",
       "    <tr>\n",
       "      <th>1</th>\n",
       "      <td>602</td>\n",
       "      <td>PR</td>\n",
       "      <td>Aguada Municipio</td>\n",
       "      <td>NaN</td>\n",
       "      <td>30.61</td>\n",
       "    </tr>\n",
       "    <tr>\n",
       "      <th>2</th>\n",
       "      <td>603</td>\n",
       "      <td>PR</td>\n",
       "      <td>Aguadilla Municipio</td>\n",
       "      <td>NaN</td>\n",
       "      <td>31.61</td>\n",
       "    </tr>\n",
       "    <tr>\n",
       "      <th>3</th>\n",
       "      <td>606</td>\n",
       "      <td>PR</td>\n",
       "      <td>Maricao Municipio</td>\n",
       "      <td>NaN</td>\n",
       "      <td>42.31</td>\n",
       "    </tr>\n",
       "    <tr>\n",
       "      <th>4</th>\n",
       "      <td>610</td>\n",
       "      <td>PR</td>\n",
       "      <td>Aasco Municipio</td>\n",
       "      <td>NaN</td>\n",
       "      <td>35.92</td>\n",
       "    </tr>\n",
       "  </tbody>\n",
       "</table>\n",
       "</div>"
      ],
      "text/plain": [
       "   Zip Code State               County  Median Household Income  \\\n",
       "0       601    PR   Adjuntas Municipio                      NaN   \n",
       "1       602    PR     Aguada Municipio                      NaN   \n",
       "2       603    PR  Aguadilla Municipio                      NaN   \n",
       "3       606    PR    Maricao Municipio                      NaN   \n",
       "4       610    PR      Aasco Municipio                      NaN   \n",
       "\n",
       "   Land Area in Square Miles  \n",
       "0                        NaN  \n",
       "1                      30.61  \n",
       "2                      31.61  \n",
       "3                      42.31  \n",
       "4                      35.92  "
      ]
     },
     "execution_count": 2,
     "metadata": {},
     "output_type": "execute_result"
    }
   ],
   "source": [
    "area_df = pd.read_csv(land_area_path)\n",
    "area_df.head()"
   ]
  },
  {
   "cell_type": "code",
   "execution_count": 3,
   "metadata": {},
   "outputs": [
    {
     "data": {
      "text/plain": [
       "Zip Code                   31859\n",
       "State                      31859\n",
       "County                     31858\n",
       "Median Household Income    31859\n",
       "Land Area (m2)             31859\n",
       "dtype: int64"
      ]
     },
     "execution_count": 3,
     "metadata": {},
     "output_type": "execute_result"
    }
   ],
   "source": [
    "area_df['Median Household Income'].unique()\n",
    "\n",
    "#Eliminate records with no land area or income figures\n",
    "clean_area_df = area_df[area_df['Land Area in Square Miles'].notnull()]\n",
    "clean_area_df = clean_area_df[clean_area_df['Median Household Income'].notnull()]\n",
    "\n",
    "#Missing county name is insignificant for statewide analysis;\n",
    "#would need to deal with if drilling down into Oklahoma counties\n",
    "#clean_area_df = clean_area_df[clean_area_df['County'].isnull()]\n",
    "\n",
    "#Remove any records that reference a negative income; this could be attributed to zip codes with no residences\n",
    "clean_area_df = clean_area_df[clean_area_df['Median Household Income'] > 0]\n",
    "\n",
    "#Clean up column names; this will help with merging further below\n",
    "clean_area_df.rename(columns={'Land Area in Square Miles' : 'Land Area (m2)'}, inplace=True)\n",
    "\n",
    "#A useable data source without nulls will have same counts for all columns\n",
    "#(Again, the missing county is insignificant to statewide aggregation)\n",
    "clean_area_df.count()"
   ]
  },
  {
   "cell_type": "code",
   "execution_count": 4,
   "metadata": {},
   "outputs": [
    {
     "name": "stdout",
     "output_type": "stream",
     "text": [
      "31859\n"
     ]
    }
   ],
   "source": [
    "#If the result of this expression matches the total row count above,\n",
    "#then the column values are all unique and zip code can be used to merge\n",
    "print(len(clean_area_df['Zip Code'].unique()))"
   ]
  },
  {
   "cell_type": "code",
   "execution_count": 5,
   "metadata": {},
   "outputs": [
    {
     "data": {
      "text/html": [
       "<div>\n",
       "<style scoped>\n",
       "    .dataframe tbody tr th:only-of-type {\n",
       "        vertical-align: middle;\n",
       "    }\n",
       "\n",
       "    .dataframe tbody tr th {\n",
       "        vertical-align: top;\n",
       "    }\n",
       "\n",
       "    .dataframe thead th {\n",
       "        text-align: right;\n",
       "    }\n",
       "</style>\n",
       "<table border=\"1\" class=\"dataframe\">\n",
       "  <thead>\n",
       "    <tr style=\"text-align: right;\">\n",
       "      <th></th>\n",
       "      <th>Population</th>\n",
       "      <th>Median Household Income</th>\n",
       "      <th>Per Capita Income</th>\n",
       "      <th>Zipcode</th>\n",
       "      <th>Population density</th>\n",
       "    </tr>\n",
       "  </thead>\n",
       "  <tbody>\n",
       "    <tr>\n",
       "      <th>0</th>\n",
       "      <td>17242.0</td>\n",
       "      <td>13092.0</td>\n",
       "      <td>6999.0</td>\n",
       "      <td>601</td>\n",
       "      <td>0.000053</td>\n",
       "    </tr>\n",
       "    <tr>\n",
       "      <th>1</th>\n",
       "      <td>38442.0</td>\n",
       "      <td>16358.0</td>\n",
       "      <td>9277.0</td>\n",
       "      <td>602</td>\n",
       "      <td>0.000118</td>\n",
       "    </tr>\n",
       "    <tr>\n",
       "      <th>2</th>\n",
       "      <td>48814.0</td>\n",
       "      <td>16603.0</td>\n",
       "      <td>11307.0</td>\n",
       "      <td>603</td>\n",
       "      <td>0.000150</td>\n",
       "    </tr>\n",
       "    <tr>\n",
       "      <th>3</th>\n",
       "      <td>6437.0</td>\n",
       "      <td>12832.0</td>\n",
       "      <td>5943.0</td>\n",
       "      <td>606</td>\n",
       "      <td>0.000020</td>\n",
       "    </tr>\n",
       "    <tr>\n",
       "      <th>4</th>\n",
       "      <td>27073.0</td>\n",
       "      <td>19309.0</td>\n",
       "      <td>10220.0</td>\n",
       "      <td>610</td>\n",
       "      <td>0.000083</td>\n",
       "    </tr>\n",
       "  </tbody>\n",
       "</table>\n",
       "</div>"
      ],
      "text/plain": [
       "   Population  Median Household Income  Per Capita Income  Zipcode  \\\n",
       "0     17242.0                  13092.0             6999.0      601   \n",
       "1     38442.0                  16358.0             9277.0      602   \n",
       "2     48814.0                  16603.0            11307.0      603   \n",
       "3      6437.0                  12832.0             5943.0      606   \n",
       "4     27073.0                  19309.0            10220.0      610   \n",
       "\n",
       "   Population density  \n",
       "0            0.000053  \n",
       "1            0.000118  \n",
       "2            0.000150  \n",
       "3            0.000020  \n",
       "4            0.000083  "
      ]
     },
     "execution_count": 5,
     "metadata": {},
     "output_type": "execute_result"
    }
   ],
   "source": [
    "census_df = pd.read_csv(census_path)\n",
    "census_df.head()"
   ]
  },
  {
   "cell_type": "code",
   "execution_count": 6,
   "metadata": {},
   "outputs": [
    {
     "data": {
      "text/plain": [
       "Population                 30888\n",
       "Median Household Income    30888\n",
       "Per Capita Income          30888\n",
       "Zip Code                   30888\n",
       "Population Density         30888\n",
       "Total Income               30888\n",
       "dtype: int64"
      ]
     },
     "execution_count": 6,
     "metadata": {},
     "output_type": "execute_result"
    }
   ],
   "source": [
    "#Eliminate rows that are missing data for any measures (income, population, etc.)\n",
    "clean_census_df = census_df[census_df['Median Household Income'].notnull()]\n",
    "clean_census_df = clean_census_df[clean_census_df['Per Capita Income'].notnull()]\n",
    "\n",
    "#Remove any records that reference a negative income; this could be attributed to zip codes with no residences\n",
    "clean_census_df = clean_census_df[clean_census_df['Median Household Income'] > 0]\n",
    "clean_census_df = clean_census_df[clean_census_df['Per Capita Income'] > 0]\n",
    "\n",
    "clean_census_df['Total Income'] = clean_census_df['Per Capita Income'] * clean_census_df['Population']\n",
    "\n",
    "#Clean up column names; this will help with merging further below\n",
    "clean_census_df.rename(columns={'Zipcode' : 'Zip Code',\n",
    "                                'Population density' : 'Population Density'}, inplace=True)\n",
    "\n",
    "#With null measures eliminated, they should all return the same count\n",
    "clean_census_df.count()"
   ]
  },
  {
   "cell_type": "code",
   "execution_count": 7,
   "metadata": {},
   "outputs": [
    {
     "name": "stdout",
     "output_type": "stream",
     "text": [
      "30888\n"
     ]
    }
   ],
   "source": [
    "#If the result of this expression matches the total row count above,\n",
    "#then the column values are all unique and zipcode can be used to merge\n",
    "print(len(clean_census_df['Zip Code'].unique()))"
   ]
  },
  {
   "cell_type": "code",
   "execution_count": 8,
   "metadata": {},
   "outputs": [
    {
     "data": {
      "text/plain": [
       "Zip Code                     30636\n",
       "State                        30636\n",
       "County                       30635\n",
       "Median Household Income_a    30636\n",
       "Land Area (m2)               30636\n",
       "Population                   30636\n",
       "Median Household Income_b    30636\n",
       "Per Capita Income            30636\n",
       "Population Density           30636\n",
       "Total Income                 30636\n",
       "dtype: int64"
      ]
     },
     "execution_count": 8,
     "metadata": {},
     "output_type": "execute_result"
    }
   ],
   "source": [
    "merge_df = pd.merge(clean_area_df, clean_census_df, on='Zip Code', how='inner', suffixes=('_a', '_b'), validate='one_to_one')\n",
    "#merge_df.count()\n",
    "\n",
    "clean_merge_df = merge_df[merge_df['State'].notnull()]\n",
    "clean_merge_df = clean_merge_df[clean_merge_df['Population'].notnull()]\n",
    "\n",
    "clean_merge_df.count()"
   ]
  },
  {
   "cell_type": "code",
   "execution_count": 10,
   "metadata": {},
   "outputs": [
    {
     "data": {
      "text/html": [
       "<div>\n",
       "<style scoped>\n",
       "    .dataframe tbody tr th:only-of-type {\n",
       "        vertical-align: middle;\n",
       "    }\n",
       "\n",
       "    .dataframe tbody tr th {\n",
       "        vertical-align: top;\n",
       "    }\n",
       "\n",
       "    .dataframe thead th {\n",
       "        text-align: right;\n",
       "    }\n",
       "</style>\n",
       "<table border=\"1\" class=\"dataframe\">\n",
       "  <thead>\n",
       "    <tr style=\"text-align: right;\">\n",
       "      <th></th>\n",
       "      <th>Land Area (mi2)</th>\n",
       "      <th>Population</th>\n",
       "      <th>Population Density</th>\n",
       "      <th>Per Capita Income</th>\n",
       "      <th>Median Household Income</th>\n",
       "    </tr>\n",
       "    <tr>\n",
       "      <th>State</th>\n",
       "      <th></th>\n",
       "      <th></th>\n",
       "      <th></th>\n",
       "      <th></th>\n",
       "      <th></th>\n",
       "    </tr>\n",
       "  </thead>\n",
       "  <tbody>\n",
       "    <tr>\n",
       "      <th>AK</th>\n",
       "      <td>211300.81</td>\n",
       "      <td>734417.0</td>\n",
       "      <td>3.475694</td>\n",
       "      <td>35617.249121</td>\n",
       "      <td>51875.0</td>\n",
       "    </tr>\n",
       "    <tr>\n",
       "      <th>AL</th>\n",
       "      <td>49481.34</td>\n",
       "      <td>4846150.0</td>\n",
       "      <td>97.938940</td>\n",
       "      <td>26883.102656</td>\n",
       "      <td>41750.0</td>\n",
       "    </tr>\n",
       "    <tr>\n",
       "      <th>AR</th>\n",
       "      <td>49590.60</td>\n",
       "      <td>2977621.0</td>\n",
       "      <td>60.044061</td>\n",
       "      <td>25666.556534</td>\n",
       "      <td>40574.0</td>\n",
       "    </tr>\n",
       "    <tr>\n",
       "      <th>AZ</th>\n",
       "      <td>89709.56</td>\n",
       "      <td>6940873.0</td>\n",
       "      <td>77.370494</td>\n",
       "      <td>29270.505603</td>\n",
       "      <td>49063.0</td>\n",
       "    </tr>\n",
       "    <tr>\n",
       "      <th>CA</th>\n",
       "      <td>96922.44</td>\n",
       "      <td>39076841.0</td>\n",
       "      <td>403.176406</td>\n",
       "      <td>35049.472573</td>\n",
       "      <td>65231.0</td>\n",
       "    </tr>\n",
       "  </tbody>\n",
       "</table>\n",
       "</div>"
      ],
      "text/plain": [
       "       Land Area (mi2)  Population  Population Density  Per Capita Income  \\\n",
       "State                                                                       \n",
       "AK           211300.81    734417.0            3.475694       35617.249121   \n",
       "AL            49481.34   4846150.0           97.938940       26883.102656   \n",
       "AR            49590.60   2977621.0           60.044061       25666.556534   \n",
       "AZ            89709.56   6940873.0           77.370494       29270.505603   \n",
       "CA            96922.44  39076841.0          403.176406       35049.472573   \n",
       "\n",
       "       Median Household Income  \n",
       "State                           \n",
       "AK                     51875.0  \n",
       "AL                     41750.0  \n",
       "AR                     40574.0  \n",
       "AZ                     49063.0  \n",
       "CA                     65231.0  "
      ]
     },
     "execution_count": 10,
     "metadata": {},
     "output_type": "execute_result"
    }
   ],
   "source": [
    "state_grp = clean_merge_df.groupby(['State'])\n",
    "state_mhia = state_grp['Median Household Income_a'].median()\n",
    "state_mhib = state_grp['Median Household Income_b'].median()\n",
    "state_area = state_grp['Land Area (m2)'].sum()\n",
    "state_pop = state_grp['Population'].sum()\n",
    "state_pci = state_grp['Total Income'].sum() / state_pop\n",
    "state_pd = state_pop / state_grp['Land Area (m2)'].sum()\n",
    "\n",
    "state_df = pd.DataFrame(state_area)\n",
    "state_df['Population'] = state_pop\n",
    "state_df['Population Density'] = state_pd\n",
    "state_df['Per Capita Income'] = state_pci\n",
    "#state_df['Median Household Income A'] = state_mhia\n",
    "state_df['Median Household Income'] = state_mhib\n",
    "\n",
    "state_df.rename(columns={'Land Area (m2)' : 'Land Area (mi2)'}, inplace=True)\n",
    "\n",
    "state_df.head()"
   ]
  },
  {
   "cell_type": "code",
   "execution_count": 11,
   "metadata": {},
   "outputs": [],
   "source": [
    "state_df.to_csv(\"Resources/IncomePopByState.csv\")"
   ]
  },
  {
   "cell_type": "code",
   "execution_count": null,
   "metadata": {},
   "outputs": [],
   "source": [
    "age_df = pd.read_csv(age_bins_path)\n",
    "age_df.head()"
   ]
  },
  {
   "cell_type": "code",
   "execution_count": null,
   "metadata": {},
   "outputs": [],
   "source": []
  }
 ],
 "metadata": {
  "kernelspec": {
   "display_name": "Python 3",
   "language": "python",
   "name": "python3"
  },
  "language_info": {
   "codemirror_mode": {
    "name": "ipython",
    "version": 3
   },
   "file_extension": ".py",
   "mimetype": "text/x-python",
   "name": "python",
   "nbconvert_exporter": "python",
   "pygments_lexer": "ipython3",
   "version": "3.7.6"
  }
 },
 "nbformat": 4,
 "nbformat_minor": 4
}
