{
 "cells": [
  {
   "cell_type": "code",
   "execution_count": 1,
   "metadata": {},
   "outputs": [],
   "source": [
    "# Dependencies and Setup\n",
    "import pandas as pd\n",
    "import numpy as np\n",
    "import matplotlib.pyplot as plt\n",
    "import requests\n",
    "import us\n",
    "\n",
    "from datetime import date, timedelta\n",
    "from pprint import pprint\n",
    "from scipy.stats import linregress\n",
    "\n",
    "from ipynb.fs.full.CasesAndDeaths import GetBimonthlyCasesAndDeathsData\n",
    "from ipynb.fs.full.CasesAndDeaths import GetDailyCasesAndDeathsData\n",
    "from ipynb.fs.full.Sample import SampleFunction"
   ]
  },
  {
   "cell_type": "code",
   "execution_count": 2,
   "metadata": {},
   "outputs": [
    {
     "name": "stdout",
     "output_type": "stream",
     "text": [
      "Hello Sample Function!\n"
     ]
    }
   ],
   "source": [
    "SampleFunction()"
   ]
  },
  {
   "cell_type": "code",
   "execution_count": 4,
   "metadata": {},
   "outputs": [
    {
     "name": "stdout",
     "output_type": "stream",
     "text": [
      "Retrieving Daily Cases And Deaths...\n",
      "Done.\n",
      "Retriving Bimonthly Cases And Deaths...\n",
      "Retreiving https://covid-api.com/api/reports?date=2020-03-01&iso=USA...\n",
      "Retreiving https://covid-api.com/api/reports?date=2020-03-15&iso=USA...\n",
      "Retreiving https://covid-api.com/api/reports?date=2020-04-01&iso=USA...\n",
      "Retreiving https://covid-api.com/api/reports?date=2020-04-15&iso=USA...\n",
      "Retreiving https://covid-api.com/api/reports?date=2020-05-01&iso=USA...\n",
      "Retreiving https://covid-api.com/api/reports?date=2020-05-15&iso=USA...\n",
      "Retreiving https://covid-api.com/api/reports?date=2020-06-01&iso=USA...\n",
      "Retreiving https://covid-api.com/api/reports?date=2020-06-15&iso=USA...\n",
      "Retreiving https://covid-api.com/api/reports?date=2020-07-01&iso=USA...\n",
      "Retreiving https://covid-api.com/api/reports?date=2020-07-15&iso=USA...\n",
      "Active           450\n",
      "Confirmed        450\n",
      "Date             450\n",
      "Deaths           450\n",
      "Fatality Rate    450\n",
      "Recovered        450\n",
      "State            450\n",
      "State Abbr       450\n",
      "Lat              450\n",
      "Lon              450\n",
      "dtype: int64\n",
      "50\n",
      "Done.\n"
     ]
    }
   ],
   "source": [
    "print('Retrieving Daily Cases And Deaths...')\n",
    "DailyCasesAndDeathsData()\n",
    "print('Done.')\n",
    "\n",
    "print('Retriving Bimonthly Cases And Deaths...')\n",
    "GetBimonthlyCasesAndDeathsData()\n",
    "print('Done.')"
   ]
  },
  {
   "cell_type": "code",
   "execution_count": null,
   "metadata": {},
   "outputs": [],
   "source": []
  }
 ],
 "metadata": {
  "kernelspec": {
   "display_name": "Python 3",
   "language": "python",
   "name": "python3"
  },
  "language_info": {
   "codemirror_mode": {
    "name": "ipython",
    "version": 3
   },
   "file_extension": ".py",
   "mimetype": "text/x-python",
   "name": "python",
   "nbconvert_exporter": "python",
   "pygments_lexer": "ipython3",
   "version": "3.7.6"
  }
 },
 "nbformat": 4,
 "nbformat_minor": 4
}
