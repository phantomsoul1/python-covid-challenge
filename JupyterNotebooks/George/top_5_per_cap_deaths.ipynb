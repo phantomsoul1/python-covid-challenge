{
 "cells": [
  {
   "cell_type": "code",
   "execution_count": 3,
   "metadata": {},
   "outputs": [],
   "source": [
    "def Top5PerCapDeathsPlot():\n",
    "    #import libraries \n",
    "    import matplotlib.pyplot as plt\n",
    "    import pandas as pd\n",
    "    import numpy as np\n",
    "    import requests\n",
    "    from scipy.stats import linregress\n",
    "    import scipy.stats as st\n",
    "    \n",
    "    #grabbing merged csv file \"AllByState-Daily.csv\" from team resources folder\n",
    "    allbystate_path = \"../George/Resources/AllByState-Daily.csv\"\n",
    "    allbystate_df = pd.read_csv(allbystate_path)\n",
    "    \n",
    "    #sorting df for time_series\n",
    "    top_deaths = allbystate_df.sort_values([\"Deaths\"], ascending=True)\n",
    "    \n",
    "    #settting plots for top_5 Per Cap States\n",
    "    ct_df = top_deaths[top_deaths[\"State\"]=='CT']\n",
    "    ma_df = top_deaths[top_deaths[\"State\"]=='MA']\n",
    "    nj_df = top_deaths[top_deaths[\"State\"]=='NJ']\n",
    "    md_df = top_deaths[top_deaths[\"State\"]=='MD']\n",
    "    nh_df = top_deaths[top_deaths[\"State\"]=='NH']\n",
    "    plt.style.use('fivethirtyeight')\n",
    "    fig,ax = plt.subplots()\n",
    "    plt.plot(\"Date\", \"Deaths\", data=ct_df)\n",
    "    plt.plot(\"Date\", \"Deaths\", data=ma_df)\n",
    "    plt.plot(\"Date\", \"Deaths\", data=nj_df)\n",
    "    plt.plot(\"Date\", \"Deaths\", data=md_df)\n",
    "    plt.plot(\"Date\", \"Deaths\", data=nh_df)\n",
    "    plt.xlabel(\"Date\")\n",
    "    plt.ylabel(\"Deaths\")\n",
    "    plt.title(\"Top 5 States (Per Capita Income) Deaths over Time\")\n",
    "    plt.xticks(rotation=90)\n",
    "    fig.set_size_inches(12, 7.25)\n",
    "    plt.legend(labels=[\"Connecticut\", \"Massachusetts\", \"New Jersey\", \"Maryland\", \"New Hampshire\"])\n",
    "\n",
    "    for n, label in enumerate(ax.xaxis.get_ticklabels()):\n",
    "        if n % 15 !=0:\n",
    "            label.set_visible(False)\n",
    "    plt.savefig(\"Top 5 States Per Capita Income Total Deaths over Time.png\")\n",
    "    plt.show()\n",
    "    \n",
    "    return"
   ]
  },
  {
   "cell_type": "code",
   "execution_count": null,
   "metadata": {},
   "outputs": [],
   "source": []
  }
 ],
 "metadata": {
  "kernelspec": {
   "display_name": "Python 3",
   "language": "python",
   "name": "python3"
  },
  "language_info": {
   "codemirror_mode": {
    "name": "ipython",
    "version": 3
   },
   "file_extension": ".py",
   "mimetype": "text/x-python",
   "name": "python",
   "nbconvert_exporter": "python",
   "pygments_lexer": "ipython3",
   "version": "3.7.6"
  }
 },
 "nbformat": 4,
 "nbformat_minor": 4
}
