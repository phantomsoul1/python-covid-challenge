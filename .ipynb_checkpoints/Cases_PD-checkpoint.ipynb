{
 "cells": [
  {
   "cell_type": "code",
   "execution_count": 1,
   "metadata": {},
   "outputs": [],
   "source": [
    "# Dependencies / initial setup\n",
    "%matplotlib notebook\n",
    "import matplotlib.pyplot as plt\n",
    "import pandas as pd\n",
    "import numpy as np\n",
    "import requests\n",
    "#from scipy.stats import linregress\n",
    "\n",
    "from pprint import pprint\n"
   ]
  },
  {
   "cell_type": "code",
   "execution_count": 2,
   "metadata": {},
   "outputs": [],
   "source": [
    "resource_path = \"Resources\"\n",
    "ipcases = f\"{resource_path}/AllByState.csv\"\n"
   ]
  },
  {
   "cell_type": "code",
   "execution_count": 4,
   "metadata": {
    "scrolled": false
   },
   "outputs": [
    {
     "data": {
      "text/plain": [
       "<bound method NDFrame.head of      Population Density  Confirmed\n",
       "0             97.938940         12\n",
       "1             97.938940       1060\n",
       "2             97.938940       4075\n",
       "3             97.938940       7294\n",
       "4             97.938940      11373\n",
       "..                  ...        ...\n",
       "445            8.709935        716\n",
       "446            8.709935        910\n",
       "447            8.709935       1079\n",
       "448            8.709935       1514\n",
       "449            8.709935       1985\n",
       "\n",
       "[450 rows x 2 columns]>"
      ]
     },
     "execution_count": 4,
     "metadata": {},
     "output_type": "execute_result"
    }
   ],
   "source": [
    "cases_df = pd.read_csv(ipcases)\n",
    "#cases_df.head(5)\n",
    "\n",
    "cases_df = cases_df[[\"Population Density\",\"Confirmed\"]]\n",
    "cases_df.head\n"
   ]
  },
  {
   "cell_type": "code",
   "execution_count": null,
   "metadata": {},
   "outputs": [],
   "source": [
    "cases_df.rename(columns={'Confirmed' : 'cases'})   #  , input = True)\n",
    "\n",
    "cases_df.head#()\n"
   ]
  },
  {
   "cell_type": "code",
   "execution_count": null,
   "metadata": {},
   "outputs": [],
   "source": [
    "# use scatter chart"
   ]
  },
  {
   "cell_type": "code",
   "execution_count": null,
   "metadata": {},
   "outputs": [],
   "source": []
  }
 ],
 "metadata": {
  "kernelspec": {
   "display_name": "Python 3",
   "language": "python",
   "name": "python3"
  },
  "language_info": {
   "codemirror_mode": {
    "name": "ipython",
    "version": 3
   },
   "file_extension": ".py",
   "mimetype": "text/x-python",
   "name": "python",
   "nbconvert_exporter": "python",
   "pygments_lexer": "ipython3",
   "version": "3.7.6"
  }
 },
 "nbformat": 4,
 "nbformat_minor": 4
}
