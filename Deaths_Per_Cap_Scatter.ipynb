{
 "cells": [
  {
   "cell_type": "code",
   "execution_count": 2,
   "metadata": {},
   "outputs": [],
   "source": [
    "def DeathsPerCapScatter():\n",
    "    #import libraries \n",
    "    import matplotlib.pyplot as plt\n",
    "    import pandas as pd\n",
    "    import numpy as np\n",
    "    import requests\n",
    "    from scipy.stats import linregress\n",
    "    import scipy.stats as st\n",
    "    \n",
    "    #grabbing merged csv file \"AllByState-Daily.csv\" from team resources folder\n",
    "    allbystate_path = \"../George/Resources/AllByState-Daily.csv\"\n",
    "    allbystate_df = pd.read_csv(allbystate_path)\n",
    "\n",
    "    #grabbing the latest date's data for plots & calculations\n",
    "    date = pd.to_datetime(allbystate_df['Date']).max().date()\n",
    "    date_snapshot = allbystate_df.loc[allbystate_df[\"Date\"]==str(date),:]\n",
    "    \n",
    "    #cleaning extra columns for plot data\n",
    "    snapshot_df = date_snapshot[[\"Date\", \"Deaths\", \"State\",\"Median Household Income\", \"Per Capita Income\"]]\n",
    "    snapshot_df\n",
    "    \n",
    "    #setting x & y values for scatterplot\n",
    "    deaths = snapshot_df[\"Deaths\"]\n",
    "    per_cap = snapshot_df[\"Per Capita Income\"]\n",
    "    \n",
    "    #calculating slope & intercept for linear regression calculation\n",
    "    (slope, intercept, rvalue, pvalue, stderr) = linregress(per_cap, deaths)\n",
    "    regress_values = per_cap * slope + intercept\n",
    "    line_eq = \"y = \" + str(round(slope,2)) + \"x + \" + str(round(intercept,2))\n",
    "    \n",
    "    #plotting scatter plot for Deaths & Median Income\n",
    "    plt.scatter(per_cap, deaths)\n",
    "    plt.plot(per_cap, regress_values, 'r-')\n",
    "    plt.annotate(line_eq, (30000,10000), fontsize=10, color='red')\n",
    "    plt.xlabel(\"Per Capita Income ($)\")\n",
    "    plt.ylabel(f\"Covid-19 Deaths\")\n",
    "    plt.title(f\"Deaths as of {date} & Per Capita Income by State\")\n",
    "    plt.grid(True)\n",
    "    correlation = st.pearsonr(per_cap, deaths)\n",
    "    corr = (f\"r^2 = {round(correlation[0],2)}\")\n",
    "    plt.annotate(corr, (30000, 12000), fontsize=10, color='green')\n",
    "    plt.savefig(\"Covid_Deaths_And_Per_Cap_Income_Plot.png\")\n",
    "    plt.show()\n",
    "    \n",
    "    return"
   ]
  },
  {
   "cell_type": "code",
   "execution_count": null,
   "metadata": {},
   "outputs": [],
   "source": []
  }
 ],
 "metadata": {
  "kernelspec": {
   "display_name": "Python 3",
   "language": "python",
   "name": "python3"
  },
  "language_info": {
   "codemirror_mode": {
    "name": "ipython",
    "version": 3
   },
   "file_extension": ".py",
   "mimetype": "text/x-python",
   "name": "python",
   "nbconvert_exporter": "python",
   "pygments_lexer": "ipython3",
   "version": "3.7.6"
  }
 },
 "nbformat": 4,
 "nbformat_minor": 4
}
